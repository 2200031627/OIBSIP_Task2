{
  "metadata": {
    "colab": {
      "provenance": [],
      "collapsed_sections": [
        "W8jCav8YCcHj",
        "B8cBAeWmCfhm",
        "SLcW1m58Cg9W",
        "jThuTttACjhN",
        "SDrYoe2rCoOS",
        "si6q7oMfHhfc",
        "mjNJG1BKB42L",
        "EogZmbgRC37E",
        "ES5LTypcHZna",
        "6wRy2Rs8HsYn"
      ],
      "name": "🚗 Car Price Prediction (R_squared 0.9732)"
    },
    "kernelspec": {
      "name": "python3",
      "display_name": "Python 3",
      "language": "python"
    },
    "language_info": {
      "name": "python",
      "version": "3.10.13",
      "mimetype": "text/x-python",
      "codemirror_mode": {
        "name": "ipython",
        "version": 3
      },
      "pygments_lexer": "ipython3",
      "nbconvert_exporter": "python",
      "file_extension": ".py"
    },
    "kaggle": {
      "accelerator": "none",
      "dataSources": [
        {
          "sourceId": 4226692,
          "sourceType": "datasetVersion",
          "datasetId": 2491159
        }
      ],
      "dockerImageVersionId": 30746,
      "isInternetEnabled": true,
      "language": "python",
      "sourceType": "notebook",
      "isGpuEnabled": false
    }
  },
  "nbformat_minor": 0,
  "nbformat": 4,
  "cells": [
    {
      "source": [
        "\n",
        "# IMPORTANT: RUN THIS CELL IN ORDER TO IMPORT YOUR KAGGLE DATA SOURCES\n",
        "# TO THE CORRECT LOCATION (/kaggle/input) IN YOUR NOTEBOOK,\n",
        "# THEN FEEL FREE TO DELETE THIS CELL.\n",
        "# NOTE: THIS NOTEBOOK ENVIRONMENT DIFFERS FROM KAGGLE'S PYTHON\n",
        "# ENVIRONMENT SO THERE MAY BE MISSING LIBRARIES USED BY YOUR\n",
        "# NOTEBOOK.\n",
        "\n",
        "import os\n",
        "import sys\n",
        "from tempfile import NamedTemporaryFile\n",
        "from urllib.request import urlopen\n",
        "from urllib.parse import unquote, urlparse\n",
        "from urllib.error import HTTPError\n",
        "from zipfile import ZipFile\n",
        "import tarfile\n",
        "import shutil\n",
        "\n",
        "CHUNK_SIZE = 40960\n",
        "DATA_SOURCE_MAPPING = 'car-price-predictionused-cars:https%3A%2F%2Fstorage.googleapis.com%2Fkaggle-data-sets%2F2491159%2F4226692%2Fbundle%2Farchive.zip%3FX-Goog-Algorithm%3DGOOG4-RSA-SHA256%26X-Goog-Credential%3Dgcp-kaggle-com%2540kaggle-161607.iam.gserviceaccount.com%252F20240824%252Fauto%252Fstorage%252Fgoog4_request%26X-Goog-Date%3D20240824T041304Z%26X-Goog-Expires%3D259200%26X-Goog-SignedHeaders%3Dhost%26X-Goog-Signature%3D6a64687b0beb2f46bd4d17c3b7786137eaeeee1ea7078d8b5aa2459e415a167a070028abea6aaf7263bfa4ef86c90c3ae680fbd76e5b041f9a74b1cea35b2cb711217f034b5390ea80f20090ee1d5efb6c6f5e7d00f60175f85c0aef839806f358961c82a663a9cece3432913deeea0b71b73905643b6e13770389ff397e3aa2e24fc7e1994e8c086539ed1f6eb4472b3a83726ebb1a3d14a2157dd728d349fc863f7b16872a8aa6a092347876bec41dda5788e53bc751965fbda85a437cccd3c0f111366b53b433c7f5a3dbedebcddea41053d346a298b7f4cae360a6620f76a6c5820185be1a5200efdfef48d8154062d5666a32dac861ce3a4ee349b09df8'\n",
        "\n",
        "KAGGLE_INPUT_PATH='/kaggle/input'\n",
        "KAGGLE_WORKING_PATH='/kaggle/working'\n",
        "KAGGLE_SYMLINK='kaggle'\n",
        "\n",
        "!umount /kaggle/input/ 2> /dev/null\n",
        "shutil.rmtree('/kaggle/input', ignore_errors=True)\n",
        "os.makedirs(KAGGLE_INPUT_PATH, 0o777, exist_ok=True)\n",
        "os.makedirs(KAGGLE_WORKING_PATH, 0o777, exist_ok=True)\n",
        "\n",
        "try:\n",
        "  os.symlink(KAGGLE_INPUT_PATH, os.path.join(\"..\", 'input'), target_is_directory=True)\n",
        "except FileExistsError:\n",
        "  pass\n",
        "try:\n",
        "  os.symlink(KAGGLE_WORKING_PATH, os.path.join(\"..\", 'working'), target_is_directory=True)\n",
        "except FileExistsError:\n",
        "  pass\n",
        "\n",
        "for data_source_mapping in DATA_SOURCE_MAPPING.split(','):\n",
        "    directory, download_url_encoded = data_source_mapping.split(':')\n",
        "    download_url = unquote(download_url_encoded)\n",
        "    filename = urlparse(download_url).path\n",
        "    destination_path = os.path.join(KAGGLE_INPUT_PATH, directory)\n",
        "    try:\n",
        "        with urlopen(download_url) as fileres, NamedTemporaryFile() as tfile:\n",
        "            total_length = fileres.headers['content-length']\n",
        "            print(f'Downloading {directory}, {total_length} bytes compressed')\n",
        "            dl = 0\n",
        "            data = fileres.read(CHUNK_SIZE)\n",
        "            while len(data) > 0:\n",
        "                dl += len(data)\n",
        "                tfile.write(data)\n",
        "                done = int(50 * dl / int(total_length))\n",
        "                sys.stdout.write(f\"\\r[{'=' * done}{' ' * (50-done)}] {dl} bytes downloaded\")\n",
        "                sys.stdout.flush()\n",
        "                data = fileres.read(CHUNK_SIZE)\n",
        "            if filename.endswith('.zip'):\n",
        "              with ZipFile(tfile) as zfile:\n",
        "                zfile.extractall(destination_path)\n",
        "            else:\n",
        "              with tarfile.open(tfile.name) as tarfile:\n",
        "                tarfile.extractall(destination_path)\n",
        "            print(f'\\nDownloaded and uncompressed: {directory}')\n",
        "    except HTTPError as e:\n",
        "        print(f'Failed to load (likely expired) {download_url} to path {destination_path}')\n",
        "        continue\n",
        "    except OSError as e:\n",
        "        print(f'Failed to load {download_url} to path {destination_path}')\n",
        "        continue\n",
        "\n",
        "print('Data source import complete.')\n"
      ],
      "metadata": {
        "id": "o9FEQWJgtrod"
      },
      "cell_type": "code",
      "outputs": [],
      "execution_count": null
    },
    {
      "cell_type": "markdown",
      "source": [
        "# ABOUT DATASET"
      ],
      "metadata": {
        "id": "W8jCav8YCcHj"
      }
    },
    {
      "cell_type": "markdown",
      "source": [
        "The dataset titled \"Car price prediction(used cars)\" available on Kaggle is designed for predicting the price of used cars based on various attributes. Here's an overview of its structure and contents:\n",
        "\n",
        "### Dataset Overview:\n",
        "- **File Name**: `car data.csv`\n",
        "- **File Size**: 16.91 kB\n",
        "- **Number of Columns**: 9\n",
        "\n",
        "### Columns:\n",
        "1. **Car_Name**: Name of the car (categorical)\n",
        "2. **Year**: Year of the car's manufacturing (numerical)\n",
        "3. **Selling_Price**: Selling price of the car (target variable, numerical)\n",
        "4. **Present_Price**: Current market price of the car (numerical)\n",
        "5. **Driven_kms**: Kilometers driven by the car (numerical)\n",
        "6. **Fuel_Type**: Type of fuel used by the car (categorical)\n",
        "7. **Selling_type**: Selling type (categorical)\n",
        "8. **Transmission**: Type of transmission (categorical)\n",
        "9. **Owner**: Number of previous owners (numerical)\n",
        "\n",
        "### Tags and Usability:\n",
        "- **Tags**: Tabular, Automobiles and Vehicles, Beginner, India, Regression\n",
        "- **Usability Rating**: 10.00 (indicating high usability for machine learning tasks)\n",
        "- **License**: CC0: Public Domain\n",
        "- **Expected Update Frequency**: Never (static dataset)\n",
        "\n",
        "### Dataset Description:\n",
        "This dataset is ideal for regression tasks where the goal is to predict the selling price of a used car based on its characteristics such as age (Year), current market price (Present_Price), kilometers driven (Driven_kms), fuel type (Fuel_Type), transmission type (Transmission), and more. It's suitable for learning regression modeling techniques, exploring feature engineering, and evaluating various machine learning algorithms.\n",
        "\n",
        "### Usage Examples:\n",
        "- **Learning**: Useful for understanding how to train a car price prediction model.\n",
        "- **Research**: Supports research in the domain of automotive pricing models.\n",
        "- **Application**: Applicable for developing real-world applications related to used car valuation.\n",
        "\n",
        "### Data Quality:\n",
        "- **Cleanliness**: Well-documented and maintained.\n",
        "- **Originality**: Original dataset source on Kaggle with high-quality notebooks available for reference.\n",
        "\n",
        "### Additional Notes:\n",
        "- The dataset has been actively viewed and downloaded, indicating its popularity and usefulness among data enthusiasts and learners.\n",
        "\n",
        "This dataset provides a rich opportunity for exploration and experimentation in machine learning, particularly in the field of regression analysis applied to automotive data."
      ],
      "metadata": {
        "id": "vfeMdXlIDoKD"
      }
    },
    {
      "cell_type": "markdown",
      "source": [
        "# LIBRARIES"
      ],
      "metadata": {
        "id": "B8cBAeWmCfhm"
      }
    },
    {
      "cell_type": "code",
      "source": [
        "from sklearn.metrics import make_scorer, mean_squared_error, mean_absolute_error, r2_score\n",
        "from sklearn.metrics import mean_squared_error, mean_absolute_error, r2_score\n",
        "from mlxtend.feature_selection import SequentialFeatureSelector as SFS\n",
        "from sklearn.model_selection import cross_val_score, KFold\n",
        "from sklearn.model_selection import train_test_split\n",
        "from sklearn.preprocessing import PowerTransformer\n",
        "from sklearn.ensemble import RandomForestRegressor\n",
        "from sklearn.linear_model import LinearRegression\n",
        "from sklearn.preprocessing import LabelEncoder\n",
        "from sklearn.utils import shuffle\n",
        "import matplotlib.pyplot as plt\n",
        "import seaborn as sns\n",
        "import pandas as pd\n",
        "import numpy as np\n",
        "import warnings\n"
      ],
      "metadata": {
        "id": "i8cJQTwUCgi_",
        "execution": {
          "iopub.status.busy": "2024-07-18T20:57:10.055406Z",
          "iopub.execute_input": "2024-07-18T20:57:10.056253Z",
          "iopub.status.idle": "2024-07-18T20:57:10.062996Z",
          "shell.execute_reply.started": "2024-07-18T20:57:10.056218Z",
          "shell.execute_reply": "2024-07-18T20:57:10.061627Z"
        },
        "trusted": true
      },
      "execution_count": null,
      "outputs": []
    },
    {
      "cell_type": "code",
      "source": [
        "warnings.filterwarnings('ignore')"
      ],
      "metadata": {
        "id": "uCoHJf4pENdu",
        "execution": {
          "iopub.status.busy": "2024-07-18T20:57:12.915214Z",
          "iopub.execute_input": "2024-07-18T20:57:12.915646Z",
          "iopub.status.idle": "2024-07-18T20:57:12.921013Z",
          "shell.execute_reply.started": "2024-07-18T20:57:12.915614Z",
          "shell.execute_reply": "2024-07-18T20:57:12.919628Z"
        },
        "trusted": true
      },
      "execution_count": null,
      "outputs": []
    },
    {
      "cell_type": "markdown",
      "source": [
        "# LOAD DATASET"
      ],
      "metadata": {
        "id": "SLcW1m58Cg9W"
      }
    },
    {
      "cell_type": "code",
      "source": [
        "df = pd.read_csv('/kaggle/input/car-price-predictionused-cars/car data.csv')"
      ],
      "metadata": {
        "id": "YS5TzQgpCjCN",
        "execution": {
          "iopub.status.busy": "2024-07-18T20:57:13.846624Z",
          "iopub.execute_input": "2024-07-18T20:57:13.847085Z",
          "iopub.status.idle": "2024-07-18T20:57:13.871125Z",
          "shell.execute_reply.started": "2024-07-18T20:57:13.847056Z",
          "shell.execute_reply": "2024-07-18T20:57:13.869779Z"
        },
        "trusted": true
      },
      "execution_count": null,
      "outputs": []
    },
    {
      "cell_type": "code",
      "source": [
        "df.shape"
      ],
      "metadata": {
        "id": "Mabo2ZY9EnNy",
        "execution": {
          "iopub.status.busy": "2024-07-18T20:57:14.196921Z",
          "iopub.execute_input": "2024-07-18T20:57:14.197771Z",
          "iopub.status.idle": "2024-07-18T20:57:14.205353Z",
          "shell.execute_reply.started": "2024-07-18T20:57:14.197735Z",
          "shell.execute_reply": "2024-07-18T20:57:14.20433Z"
        },
        "trusted": true
      },
      "execution_count": null,
      "outputs": []
    },
    {
      "cell_type": "code",
      "source": [
        "df.head()"
      ],
      "metadata": {
        "id": "IT2KT9W1EpMN",
        "execution": {
          "iopub.status.busy": "2024-07-18T20:57:14.492351Z",
          "iopub.execute_input": "2024-07-18T20:57:14.49278Z",
          "iopub.status.idle": "2024-07-18T20:57:14.520416Z",
          "shell.execute_reply.started": "2024-07-18T20:57:14.492745Z",
          "shell.execute_reply": "2024-07-18T20:57:14.519372Z"
        },
        "trusted": true
      },
      "execution_count": null,
      "outputs": []
    },
    {
      "cell_type": "markdown",
      "source": [
        "# DATA CLEANING"
      ],
      "metadata": {
        "id": "jThuTttACjhN"
      }
    },
    {
      "cell_type": "code",
      "source": [
        "df.columns = df.columns.str.lower()"
      ],
      "metadata": {
        "id": "oCl0_mlpGb2W",
        "execution": {
          "iopub.status.busy": "2024-07-18T20:57:14.959479Z",
          "iopub.execute_input": "2024-07-18T20:57:14.960301Z",
          "iopub.status.idle": "2024-07-18T20:57:14.965397Z",
          "shell.execute_reply.started": "2024-07-18T20:57:14.960265Z",
          "shell.execute_reply": "2024-07-18T20:57:14.964261Z"
        },
        "trusted": true
      },
      "execution_count": null,
      "outputs": []
    },
    {
      "cell_type": "code",
      "source": [
        "df.isnull().sum().any()"
      ],
      "metadata": {
        "id": "sZ7NfJU-JPjB",
        "execution": {
          "iopub.status.busy": "2024-07-18T20:57:15.201883Z",
          "iopub.execute_input": "2024-07-18T20:57:15.202722Z",
          "iopub.status.idle": "2024-07-18T20:57:15.212179Z",
          "shell.execute_reply.started": "2024-07-18T20:57:15.202676Z",
          "shell.execute_reply": "2024-07-18T20:57:15.210912Z"
        },
        "trusted": true
      },
      "execution_count": null,
      "outputs": []
    },
    {
      "cell_type": "code",
      "source": [
        "df.info()"
      ],
      "metadata": {
        "id": "ifPML6JlCnkr",
        "execution": {
          "iopub.status.busy": "2024-07-18T20:57:15.419157Z",
          "iopub.execute_input": "2024-07-18T20:57:15.41954Z",
          "iopub.status.idle": "2024-07-18T20:57:15.44507Z",
          "shell.execute_reply.started": "2024-07-18T20:57:15.419511Z",
          "shell.execute_reply": "2024-07-18T20:57:15.443746Z"
        },
        "trusted": true
      },
      "execution_count": null,
      "outputs": []
    },
    {
      "cell_type": "code",
      "source": [
        "obj_col = df.select_dtypes(['object']).columns\n",
        "num_col = df.select_dtypes(['int', 'float']).columns"
      ],
      "metadata": {
        "id": "bBVcMTKDEr8f",
        "execution": {
          "iopub.status.busy": "2024-07-18T20:57:15.616528Z",
          "iopub.execute_input": "2024-07-18T20:57:15.616939Z",
          "iopub.status.idle": "2024-07-18T20:57:15.623448Z",
          "shell.execute_reply.started": "2024-07-18T20:57:15.616907Z",
          "shell.execute_reply": "2024-07-18T20:57:15.622347Z"
        },
        "trusted": true
      },
      "execution_count": null,
      "outputs": []
    },
    {
      "cell_type": "code",
      "source": [
        "for col in list(obj_col):\n",
        "  print(f'{col} = > {len(df[col].unique())}')\n",
        "  print()"
      ],
      "metadata": {
        "id": "UN7VyOg4Er61",
        "execution": {
          "iopub.status.busy": "2024-07-18T20:57:15.81711Z",
          "iopub.execute_input": "2024-07-18T20:57:15.817498Z",
          "iopub.status.idle": "2024-07-18T20:57:15.824094Z",
          "shell.execute_reply.started": "2024-07-18T20:57:15.817467Z",
          "shell.execute_reply": "2024-07-18T20:57:15.822878Z"
        },
        "trusted": true
      },
      "execution_count": null,
      "outputs": []
    },
    {
      "cell_type": "code",
      "source": [
        "le = LabelEncoder()\n",
        "df['fuel_type'] = le.fit_transform(df['fuel_type'])\n",
        "df['selling_type'] = le.fit_transform(df['selling_type'])\n",
        "df['transmission'] = le.fit_transform(df['transmission'])"
      ],
      "metadata": {
        "id": "wj6pOlJZEr38",
        "execution": {
          "iopub.status.busy": "2024-07-18T20:57:16.02644Z",
          "iopub.execute_input": "2024-07-18T20:57:16.026897Z",
          "iopub.status.idle": "2024-07-18T20:57:16.0346Z",
          "shell.execute_reply.started": "2024-07-18T20:57:16.026866Z",
          "shell.execute_reply": "2024-07-18T20:57:16.033335Z"
        },
        "trusted": true
      },
      "execution_count": null,
      "outputs": []
    },
    {
      "cell_type": "code",
      "source": [
        "df.drop('car_name', axis = 1, inplace = True)\n",
        "df.info()"
      ],
      "metadata": {
        "id": "gVFqcGmiEr2W",
        "execution": {
          "iopub.status.busy": "2024-07-18T20:57:16.232493Z",
          "iopub.execute_input": "2024-07-18T20:57:16.233495Z",
          "iopub.status.idle": "2024-07-18T20:57:16.247783Z",
          "shell.execute_reply.started": "2024-07-18T20:57:16.233459Z",
          "shell.execute_reply": "2024-07-18T20:57:16.246414Z"
        },
        "trusted": true
      },
      "execution_count": null,
      "outputs": []
    },
    {
      "cell_type": "code",
      "source": [
        "df.describe()"
      ],
      "metadata": {
        "id": "caUpwlIGHF0J",
        "execution": {
          "iopub.status.busy": "2024-07-18T20:57:16.431611Z",
          "iopub.execute_input": "2024-07-18T20:57:16.432024Z",
          "iopub.status.idle": "2024-07-18T20:57:16.468201Z",
          "shell.execute_reply.started": "2024-07-18T20:57:16.431993Z",
          "shell.execute_reply": "2024-07-18T20:57:16.467092Z"
        },
        "trusted": true
      },
      "execution_count": null,
      "outputs": []
    },
    {
      "cell_type": "markdown",
      "source": [
        "# DATA PRE-PROCESSING"
      ],
      "metadata": {
        "id": "SDrYoe2rCoOS"
      }
    },
    {
      "cell_type": "markdown",
      "source": [
        "## EDA & TRANSFORMATION"
      ],
      "metadata": {
        "id": "si6q7oMfHhfc"
      }
    },
    {
      "cell_type": "code",
      "source": [
        "df.hist(figsize = (12,10), bins = 50)\n",
        "plt.show()"
      ],
      "metadata": {
        "id": "KxS_-BbmCrF0",
        "execution": {
          "iopub.status.busy": "2024-07-18T20:57:17.053618Z",
          "iopub.execute_input": "2024-07-18T20:57:17.054048Z",
          "iopub.status.idle": "2024-07-18T20:57:18.984218Z",
          "shell.execute_reply.started": "2024-07-18T20:57:17.054011Z",
          "shell.execute_reply": "2024-07-18T20:57:18.982931Z"
        },
        "trusted": true
      },
      "execution_count": null,
      "outputs": []
    },
    {
      "cell_type": "code",
      "source": [
        "df['driven_kms'] = np.log(df['driven_kms'])\n",
        "df['selling_price'] = np.log(df['selling_price'])\n",
        "df['present_price'] = np.log(df['present_price'])"
      ],
      "metadata": {
        "id": "xLuQmpSgH0L9",
        "execution": {
          "iopub.status.busy": "2024-07-18T20:57:18.98598Z",
          "iopub.execute_input": "2024-07-18T20:57:18.986321Z",
          "iopub.status.idle": "2024-07-18T20:57:18.994278Z",
          "shell.execute_reply.started": "2024-07-18T20:57:18.986292Z",
          "shell.execute_reply": "2024-07-18T20:57:18.992907Z"
        },
        "trusted": true
      },
      "execution_count": null,
      "outputs": []
    },
    {
      "cell_type": "code",
      "source": [
        "df.hist(figsize = (12,10), bins = 50)\n",
        "plt.show()"
      ],
      "metadata": {
        "id": "gD-BBA_MH0IG",
        "execution": {
          "iopub.status.busy": "2024-07-18T20:57:18.995471Z",
          "iopub.execute_input": "2024-07-18T20:57:18.995859Z",
          "iopub.status.idle": "2024-07-18T20:57:20.935873Z",
          "shell.execute_reply.started": "2024-07-18T20:57:18.99583Z",
          "shell.execute_reply": "2024-07-18T20:57:20.934774Z"
        },
        "trusted": true
      },
      "execution_count": null,
      "outputs": []
    },
    {
      "cell_type": "code",
      "source": [
        "plt.figure(figsize = (12,8))\n",
        "sns.heatmap(df.corr(),annot=True, cmap='coolwarm', linewidths=.5)\n",
        "plt.show()"
      ],
      "metadata": {
        "id": "5LVlJAZ9H0Gb",
        "execution": {
          "iopub.status.busy": "2024-07-18T20:57:20.93818Z",
          "iopub.execute_input": "2024-07-18T20:57:20.938533Z",
          "iopub.status.idle": "2024-07-18T20:57:21.396924Z",
          "shell.execute_reply.started": "2024-07-18T20:57:20.938504Z",
          "shell.execute_reply": "2024-07-18T20:57:21.395692Z"
        },
        "trusted": true
      },
      "execution_count": null,
      "outputs": []
    },
    {
      "cell_type": "markdown",
      "source": [
        "## FEATURES SELECTION"
      ],
      "metadata": {
        "id": "mjNJG1BKB42L"
      }
    },
    {
      "cell_type": "code",
      "source": [
        "x = df.drop('selling_price', axis = 1)\n",
        "y = df.selling_price\n",
        "\n",
        "x, y = shuffle(x, y, random_state=42)"
      ],
      "metadata": {
        "id": "HmZLjMrLCWus",
        "execution": {
          "iopub.status.busy": "2024-07-18T20:57:21.398425Z",
          "iopub.execute_input": "2024-07-18T20:57:21.399296Z",
          "iopub.status.idle": "2024-07-18T20:57:21.407859Z",
          "shell.execute_reply.started": "2024-07-18T20:57:21.399253Z",
          "shell.execute_reply": "2024-07-18T20:57:21.406779Z"
        },
        "trusted": true
      },
      "execution_count": null,
      "outputs": []
    },
    {
      "cell_type": "code",
      "source": [
        "model_sfs = RandomForestRegressor(random_state = 42)"
      ],
      "metadata": {
        "id": "fENEqOvHCWs4",
        "execution": {
          "iopub.status.busy": "2024-07-18T20:57:21.409223Z",
          "iopub.execute_input": "2024-07-18T20:57:21.409567Z",
          "iopub.status.idle": "2024-07-18T20:57:21.418711Z",
          "shell.execute_reply.started": "2024-07-18T20:57:21.409522Z",
          "shell.execute_reply": "2024-07-18T20:57:21.417513Z"
        },
        "trusted": true
      },
      "execution_count": null,
      "outputs": []
    },
    {
      "cell_type": "code",
      "source": [
        "sfs = SFS(model_sfs, k_features = 'best', forward = True, floating = True, scoring = 'neg_root_mean_squared_error', cv = 5, n_jobs = 1, verbose = 2)"
      ],
      "metadata": {
        "id": "-WInNhwLCDTv",
        "execution": {
          "iopub.status.busy": "2024-07-18T20:57:21.421342Z",
          "iopub.execute_input": "2024-07-18T20:57:21.421803Z",
          "iopub.status.idle": "2024-07-18T20:57:21.429762Z",
          "shell.execute_reply.started": "2024-07-18T20:57:21.421764Z",
          "shell.execute_reply": "2024-07-18T20:57:21.428717Z"
        },
        "trusted": true
      },
      "execution_count": null,
      "outputs": []
    },
    {
      "cell_type": "code",
      "source": [
        "sfs.fit(x,y)"
      ],
      "metadata": {
        "id": "hLNDppoYCDR7",
        "execution": {
          "iopub.status.busy": "2024-07-18T20:57:21.431798Z",
          "iopub.execute_input": "2024-07-18T20:57:21.432153Z",
          "iopub.status.idle": "2024-07-18T20:58:01.802422Z",
          "shell.execute_reply.started": "2024-07-18T20:57:21.432125Z",
          "shell.execute_reply": "2024-07-18T20:58:01.801432Z"
        },
        "trusted": true
      },
      "execution_count": null,
      "outputs": []
    },
    {
      "cell_type": "code",
      "source": [
        "list(sfs.k_feature_names_)"
      ],
      "metadata": {
        "id": "KgJLHIXGE0AM",
        "execution": {
          "iopub.status.busy": "2024-07-18T20:58:01.803874Z",
          "iopub.execute_input": "2024-07-18T20:58:01.804204Z",
          "iopub.status.idle": "2024-07-18T20:58:01.810633Z",
          "shell.execute_reply.started": "2024-07-18T20:58:01.804177Z",
          "shell.execute_reply": "2024-07-18T20:58:01.809725Z"
        },
        "trusted": true
      },
      "execution_count": null,
      "outputs": []
    },
    {
      "cell_type": "code",
      "source": [
        "x = df[list(sfs.k_feature_names_)]\n",
        "y = df.selling_price"
      ],
      "metadata": {
        "id": "n5A8wP5rEhRm",
        "execution": {
          "iopub.status.busy": "2024-07-18T20:58:01.813559Z",
          "iopub.execute_input": "2024-07-18T20:58:01.813999Z",
          "iopub.status.idle": "2024-07-18T20:58:01.822332Z",
          "shell.execute_reply.started": "2024-07-18T20:58:01.813959Z",
          "shell.execute_reply": "2024-07-18T20:58:01.821228Z"
        },
        "trusted": true
      },
      "execution_count": null,
      "outputs": []
    },
    {
      "cell_type": "code",
      "source": [
        "xtrain, xtest, ytrain, ytest = train_test_split(x,y,test_size = 0.2,random_state = 42, shuffle = True)"
      ],
      "metadata": {
        "id": "Ca5fFFkSFH4j",
        "execution": {
          "iopub.status.busy": "2024-07-18T20:58:01.823889Z",
          "iopub.execute_input": "2024-07-18T20:58:01.824331Z",
          "iopub.status.idle": "2024-07-18T20:58:01.838233Z",
          "shell.execute_reply.started": "2024-07-18T20:58:01.82428Z",
          "shell.execute_reply": "2024-07-18T20:58:01.837106Z"
        },
        "trusted": true
      },
      "execution_count": null,
      "outputs": []
    },
    {
      "cell_type": "markdown",
      "source": [
        "# MODELLING"
      ],
      "metadata": {
        "id": "EogZmbgRC37E"
      }
    },
    {
      "cell_type": "code",
      "source": [
        "model_l = LinearRegression()\n",
        "model_r = RandomForestRegressor()"
      ],
      "metadata": {
        "id": "_QbKmKUWC7AK",
        "execution": {
          "iopub.status.busy": "2024-07-18T20:58:01.83946Z",
          "iopub.execute_input": "2024-07-18T20:58:01.839841Z",
          "iopub.status.idle": "2024-07-18T20:58:01.848107Z",
          "shell.execute_reply.started": "2024-07-18T20:58:01.839812Z",
          "shell.execute_reply": "2024-07-18T20:58:01.846968Z"
        },
        "trusted": true
      },
      "execution_count": null,
      "outputs": []
    },
    {
      "cell_type": "code",
      "source": [
        "model_l.fit(xtrain,ytrain)"
      ],
      "metadata": {
        "id": "g0QgmbWOFVnW",
        "execution": {
          "iopub.status.busy": "2024-07-18T20:58:01.849404Z",
          "iopub.execute_input": "2024-07-18T20:58:01.849762Z",
          "iopub.status.idle": "2024-07-18T20:58:01.879899Z",
          "shell.execute_reply.started": "2024-07-18T20:58:01.849732Z",
          "shell.execute_reply": "2024-07-18T20:58:01.878733Z"
        },
        "trusted": true
      },
      "execution_count": null,
      "outputs": []
    },
    {
      "cell_type": "code",
      "source": [
        "model_r.fit(xtest,ytest)"
      ],
      "metadata": {
        "id": "he-ffwKVFVje",
        "execution": {
          "iopub.status.busy": "2024-07-18T20:58:01.881571Z",
          "iopub.execute_input": "2024-07-18T20:58:01.88202Z",
          "iopub.status.idle": "2024-07-18T20:58:02.038348Z",
          "shell.execute_reply.started": "2024-07-18T20:58:01.881981Z",
          "shell.execute_reply": "2024-07-18T20:58:02.037116Z"
        },
        "trusted": true
      },
      "execution_count": null,
      "outputs": []
    },
    {
      "cell_type": "code",
      "source": [],
      "metadata": {
        "id": "ozL3HE_ZFVhD"
      },
      "execution_count": null,
      "outputs": []
    },
    {
      "cell_type": "markdown",
      "source": [
        "# EVALUATION"
      ],
      "metadata": {
        "id": "pyq-Ngi_C7d_"
      }
    },
    {
      "cell_type": "code",
      "source": [
        "pred_l = model_l.predict(xtest)\n",
        "\n",
        "\n",
        "mse = mean_squared_error(ytest, pred_l)\n",
        "rmse = np.sqrt(mse)\n",
        "mae = mean_absolute_error(ytest, pred_l)\n",
        "r2 = r2_score(ytest, pred_l)\n",
        "\n",
        "# Print metrics\n",
        "print(f'Mean Squared Error (MSE): {mse}')\n",
        "print(f'Root Mean Squared Error (RMSE): {rmse}')\n",
        "print(f'Mean Absolute Error (MAE): {mae}')\n",
        "print(f'R-squared (R2): {r2}')\n",
        "\n",
        "baseline_pred = [np.mean(ytest)] * len(ytest)\n",
        "baseline_mse = mean_squared_error(ytest, baseline_pred)\n",
        "baseline_rmse = np.sqrt(baseline_mse)\n",
        "print(f'Baseline MSE: {baseline_mse}')\n",
        "print(f'Baseline RMSE: {baseline_rmse}')\n"
      ],
      "metadata": {
        "id": "RXOqK473F0tk",
        "execution": {
          "iopub.status.busy": "2024-07-18T20:58:02.03966Z",
          "iopub.execute_input": "2024-07-18T20:58:02.040049Z",
          "iopub.status.idle": "2024-07-18T20:58:02.052885Z",
          "shell.execute_reply.started": "2024-07-18T20:58:02.039998Z",
          "shell.execute_reply": "2024-07-18T20:58:02.051753Z"
        },
        "trusted": true
      },
      "execution_count": null,
      "outputs": []
    },
    {
      "cell_type": "code",
      "source": [
        "pred_r = model_r.predict(xtest)\n",
        "\n",
        "mse = mean_squared_error(ytest, pred_r)\n",
        "rmse = np.sqrt(mse)\n",
        "mae = mean_absolute_error(ytest, pred_r)\n",
        "r2 = r2_score(ytest, pred_r)\n",
        "\n",
        "print(f'Mean Squared Error (MSE): {mse}')\n",
        "print(f'Root Mean Squared Error (RMSE): {rmse}')\n",
        "print(f'Mean Absolute Error (MAE): {mae}')\n",
        "print(f'R-squared (R2): {r2}')\n",
        "\n",
        "baseline_pred = [np.mean(ytest)] * len(ytest)\n",
        "baseline_mse = mean_squared_error(ytest, baseline_pred)\n",
        "baseline_rmse = np.sqrt(baseline_mse)\n",
        "print(f'Baseline MSE: {baseline_mse}')\n",
        "print(f'Baseline RMSE: {baseline_rmse}')\n"
      ],
      "metadata": {
        "id": "NvcCWWA1F9Ux",
        "execution": {
          "iopub.status.busy": "2024-07-18T20:58:02.054203Z",
          "iopub.execute_input": "2024-07-18T20:58:02.054533Z",
          "iopub.status.idle": "2024-07-18T20:58:02.073877Z",
          "shell.execute_reply.started": "2024-07-18T20:58:02.054506Z",
          "shell.execute_reply": "2024-07-18T20:58:02.072563Z"
        },
        "trusted": true
      },
      "execution_count": null,
      "outputs": []
    },
    {
      "cell_type": "markdown",
      "source": [
        "# CROSS VALIDATION"
      ],
      "metadata": {
        "id": "ES5LTypcHZna"
      }
    },
    {
      "cell_type": "code",
      "source": [
        "model = RandomForestRegressor(random_state=42)\n",
        "\n",
        "kf = KFold(n_splits=5, shuffle=True, random_state=42)\n",
        "\n",
        "scoring = {\n",
        "    'mse': make_scorer(mean_squared_error),\n",
        "    'mae': make_scorer(mean_absolute_error),\n",
        "    'r2': make_scorer(r2_score)\n",
        "}\n",
        "\n",
        "scores_mse = cross_val_score(model, xtrain, ytrain, cv=kf, scoring='neg_mean_squared_error')\n",
        "scores_mae = cross_val_score(model, xtrain, ytrain, cv=kf, scoring='neg_mean_absolute_error')\n",
        "scores_r2 = cross_val_score(model, xtrain, ytrain, cv=kf, scoring='r2')\n",
        "\n",
        "rmse_scores = np.sqrt(-scores_mse)\n",
        "\n",
        "print(f'Mean MSE: {-scores_mse.mean()}')\n",
        "print(f'Standard Deviation of MSE: {scores_mse.std()}')\n",
        "print(f'Mean RMSE: {rmse_scores.mean()}')\n",
        "print(f'Standard Deviation of RMSE: {rmse_scores.std()}')\n",
        "print(f'Mean MAE: {-scores_mae.mean()}')\n",
        "print(f'Standard Deviation of MAE: {scores_mae.std()}')\n",
        "print(f'Mean R-squared: {scores_r2.mean()}')\n",
        "print(f'Standard Deviation of R-squared: {scores_r2.std()}')\n",
        "\n",
        "model.fit(xtrain, ytrain)\n",
        "pred = model.predict(xtest)\n",
        "\n",
        "mse_test = mean_squared_error(ytest, pred)\n",
        "rmse_test = np.sqrt(mse_test)\n",
        "mae_test = mean_absolute_error(ytest, pred)\n",
        "r2_test = r2_score(ytest, pred)\n",
        "\n",
        "print('\\n\\n')\n",
        "print(f'Test Set MSE: {mse_test}')\n",
        "print(f'Test Set RMSE: {rmse_test}')\n",
        "print(f'Test Set MAE: {mae_test}')\n",
        "print(f'Test Set R-squared: {r2_test}')\n"
      ],
      "metadata": {
        "id": "dEYXzS17GFt9",
        "execution": {
          "iopub.status.busy": "2024-07-18T20:58:02.075049Z",
          "iopub.execute_input": "2024-07-18T20:58:02.075379Z",
          "iopub.status.idle": "2024-07-18T20:58:04.885149Z",
          "shell.execute_reply.started": "2024-07-18T20:58:02.075351Z",
          "shell.execute_reply": "2024-07-18T20:58:04.884007Z"
        },
        "trusted": true
      },
      "execution_count": null,
      "outputs": []
    },
    {
      "cell_type": "markdown",
      "source": [
        "# CONCLUSION"
      ],
      "metadata": {
        "id": "6wRy2Rs8HsYn"
      }
    },
    {
      "cell_type": "markdown",
      "source": [
        "### Cross-Validation Metrics (Training Data):\n",
        "- **Mean MSE**: 0.0537\n",
        "- **Mean RMSE**: 0.2290\n",
        "- **Mean MAE**: 0.1602\n",
        "- **Mean R-squared**: 0.9677\n",
        "\n",
        "These metrics indicate that the model fits the training data very well:\n",
        "- **Mean MSE** (0.0537) suggests that, on average, the squared differences between predicted and actual values are low, indicating accurate predictions.\n",
        "- **Mean RMSE** (0.2290) is relatively low, showing that predictions are close to the actual values in terms of the target variable's scale.\n",
        "- **Mean MAE** (0.1602) indicates that the average absolute difference between predicted and actual values is small.\n",
        "- **Mean R-squared** (0.9677) means the model explains approximately 96.77% of the variance in the target variable, demonstrating a strong fit to the data.\n",
        "\n",
        "### Test Set Metrics:\n",
        "- **Test Set MSE**: 0.0383\n",
        "- **Test Set RMSE**: 0.1958\n",
        "- **Test Set MAE**: 0.1480\n",
        "- **Test Set R-squared**: 0.9732\n",
        "\n",
        "The metrics on the test set confirm the model’s excellent performance:\n",
        "- **Test Set MSE** (0.0383) is lower than the training set MSE, suggesting good generalization to unseen data.\n",
        "- **Test Set RMSE** (0.1958) is low, indicating that predictions on the test set are also close to the actual values.\n",
        "- **Test Set MAE** (0.1480) shows that the average absolute difference between predicted and actual values is small in the test set.\n",
        "- **Test Set R-squared** (0.9732) implies that the model explains approximately 97.32% of the variance in the test set, reinforcing its strong predictive capability.\n",
        "\n",
        "### Summary:\n",
        "The model demonstrates exceptional performance across both cross-validation on the training data and evaluation on the test set. It achieves low error metrics (MSE, RMSE, MAE) and high R-squared values consistently, indicating precise predictions and a robust fit to the data. The low variance in performance metrics between training and test sets suggests that the model generalizes well to new data, making it a reliable and effective tool for predicting the target variable.\n",
        "\n"
      ],
      "metadata": {
        "id": "ZzAjpUWJHuzy"
      }
    },
    {
      "cell_type": "code",
      "source": [],
      "metadata": {
        "id": "F7q5q5V_HbXq"
      },
      "execution_count": null,
      "outputs": []
    },
    {
      "cell_type": "code",
      "source": [],
      "metadata": {
        "id": "6j9f2j6Strpc"
      },
      "execution_count": null,
      "outputs": []
    }
  ]
}